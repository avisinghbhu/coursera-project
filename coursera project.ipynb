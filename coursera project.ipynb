{
 "cells": [
  {
   "cell_type": "markdown",
   "id": "0b5de3b5-8177-4986-b13b-ee9c9545fe7c",
   "metadata": {},
   "source": [
    "My first project\n",
    "\n"
   ]
  },
  {
   "cell_type": "markdown",
   "id": "01ccbade-d15f-4f2d-b270-51bf6f377a50",
   "metadata": {},
   "source": [
    "this is written for assignment completion in IBM Data Science Course"
   ]
  },
  {
   "cell_type": "markdown",
   "id": "dd3537e3-1341-47c0-a950-5ba057fed385",
   "metadata": {},
   "source": [
    "Data Science involves various languages that are commonly used for analysis and visualization tasks. Here is a list of popular data science languages:\n",
    "\n",
    "1. Python\n",
    "2. R\n",
    "3. SQL\n",
    "4. Julia\n",
    "5. Java\n"
   ]
  },
  {
   "cell_type": "markdown",
   "id": "1f15ef17-5207-47c4-a4b1-c0731be2f753",
   "metadata": {},
   "source": [
    "Data Science libraries are essential tools for performing data analysis, visualization, and machine learning tasks. Here is an ordered list of some popular libraries used in Data Science:\n",
    "\n",
    "1. NumPy\n",
    "2. Pandas\n",
    "3. Matplotlib\n",
    "4. Scikit-learn\n",
    "5. TensorFlow\n",
    "6. Keras\n"
   ]
  },
  {
   "cell_type": "markdown",
   "id": "1db056b5-4bc2-478d-b446-2f618ac8d02f",
   "metadata": {},
   "source": [
    "Data Science tools help in analyzing, visualizing, and modeling data. Below is a table of commonly used Data Science tools:\n",
    "\n",
    "| Tool Name      | Purpose                           |\n",
    "|----------------|-----------------------------------|\n",
    "| Jupyter Notebook | Interactive coding environment |\n",
    "| RStudio         | Statistical analysis and coding |\n",
    "| Apache Spark    | Big data processing             |\n",
    "| TensorFlow      | Deep learning framework         |\n",
    "| Tableau         | Data visualization              |\n"
   ]
  },
  {
   "cell_type": "markdown",
   "id": "0f2f6f46-20f3-44e0-a564-8facdedd8dca",
   "metadata": {},
   "source": [
    "Arithmetic expressions are mathematical operations that can be performed in Python. Below are some examples of arithmetic expressions.\n",
    "\n"
   ]
  },
  {
   "cell_type": "code",
   "execution_count": 3,
   "id": "5fe69452-8ac3-4227-92c6-d7ff80f2bfc3",
   "metadata": {},
   "outputs": [
    {
     "name": "stdout",
     "output_type": "stream",
     "text": [
      "The result of the operation is: 23\n"
     ]
    }
   ],
   "source": [
    "\n",
    "result = (5 * 3) + 8\n",
    "print(\"The result of the operation is:\", result)\n"
   ]
  },
  {
   "cell_type": "code",
   "execution_count": 4,
   "id": "4d85eaea-36ae-4a3a-bb6e-7ce3a82a8097",
   "metadata": {},
   "outputs": [
    {
     "name": "stdout",
     "output_type": "stream",
     "text": [
      "120 minutes is equal to 2.0 hours.\n"
     ]
    }
   ],
   "source": [
    "minutes = 120\n",
    "hours = minutes / 60\n",
    "print(f\"{minutes} minutes is equal to {hours} hours.\")\n"
   ]
  },
  {
   "cell_type": "markdown",
   "id": "e86bb0b0-845a-428b-a4e1-14d04a36c9ca",
   "metadata": {},
   "source": [
    "The objectives of this notebook are as follows:\n",
    "\n",
    "- Understand the basics of Jupyter Notebooks\n",
    "- Learn Markdown formatting for documentation\n",
    "- Practice creating and executing Python code\n",
    "- Explore Data Science tools and libraries\n"
   ]
  },
  {
   "cell_type": "markdown",
   "id": "b9a2ab79-7928-47d7-9fd5-42d6e194aa8d",
   "metadata": {},
   "source": [
    "**Author:** Avinash Singh\n"
   ]
  },
  {
   "cell_type": "code",
   "execution_count": null,
   "id": "dc0b2b4c-efa1-4331-9915-7f60c73d78b0",
   "metadata": {},
   "outputs": [],
   "source": []
  }
 ],
 "metadata": {
  "kernelspec": {
   "display_name": "Python 3 (ipykernel)",
   "language": "python",
   "name": "python3"
  },
  "language_info": {
   "codemirror_mode": {
    "name": "ipython",
    "version": 3
   },
   "file_extension": ".py",
   "mimetype": "text/x-python",
   "name": "python",
   "nbconvert_exporter": "python",
   "pygments_lexer": "ipython3",
   "version": "3.12.4"
  }
 },
 "nbformat": 4,
 "nbformat_minor": 5
}
